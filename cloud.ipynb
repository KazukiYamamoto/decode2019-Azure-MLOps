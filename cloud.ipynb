{
  "metadata": {
    "kernelspec": {
      "display_name": "Python 3",
      "language": "python",
      "name": "python3"
    },
    "language_info": {
      "mimetype": "text/x-python",
      "nbconvert_exporter": "python",
      "name": "python",
      "file_extension": ".py",
      "version": "3.5.4",
      "pygments_lexer": "ipython3",
      "codemirror_mode": {
        "version": 3,
        "name": "ipython"
      }
    }
  },
  "nbformat_minor": 2,
  "nbformat": 4,
  "cells": [
    {
      "cell_type": "markdown",
      "source": "# クラウドへ（そしてその先へ）\n数値の問題を解決する方法については十分に検討しました。トレーニング部分をクラウドに移行します。この場合も同様です。（数値の問題にはこれ以上は不要ですが、他の問題については、ローカルでサブセットの問題をテストしてからクラウドに移動して全体を処理します）\n\nいくつか設定しましょう。\n\n最初にしなければならないことは、azureml.core パッケージがノートブック環境にインストールされているのを確認することです。Azure Notebooksを使用している場合は、簡単な2ステップのプロセスで確認できます。",
      "metadata": {}
    },
    {
      "cell_type": "markdown",
      "source": "## Azure Notebooks に依存関係を追加する\n\"Project Settings\" をクリックします。\n\n![Project Setings](https://raw.githubusercontent.com/sethjuarez/pytorchintro/master/images/project_settings.png)\n\n次に、\"Environments\" タブを選択し、\"Python 3.6\" を選択します。最後に、`requirements.txt` を選択します。\n\n![Settings](https://raw.githubusercontent.com/sethjuarez/pytorchintro/master/images/settings.png)\n\nこれらのステップで、実行できるようになるはずです。\n\n注: もし上記の設定をしても問題が発生する場合は、Notebook でカーネルが Python 3.6 に設定されていることを確認してください。次の操作で設定できます:\nSelect Kernel - Change Kernel - Python 3.6",
      "metadata": {}
    },
    {
      "cell_type": "code",
      "source": "import json\nimport time\nimport azureml\nfrom azureml.core.model import Model\nfrom azureml.core import Workspace, Run, Experiment\nfrom azureml.core.runconfig import RunConfiguration\nfrom azureml.core.conda_dependencies import CondaDependencies\nfrom azureml.core.compute import ComputeTarget, AmlCompute\nfrom azureml.core.compute_target import ComputeTargetException\nfrom azureml.train.dnn import PyTorch\nfrom azureml.widgets import RunDetails\nfrom torchvision import datasets, transforms\n\nprint(\"Azure ML SDK Version: \", azureml.core.VERSION)",
      "metadata": {},
      "execution_count": 1,
      "outputs": [
        {
          "name": "stdout",
          "output_type": "stream",
          "text": "Azure ML SDK Version:  1.0.2\n"
        }
      ]
    },
    {
      "cell_type": "markdown",
      "source": "# Azure Machine Learning サービスを設定する\n最初に必要な作業は、Azure Machine Learning ワークスペースを作成することです。その方法についての [ドキュメント](https://docs.microsoft.com/en-us/azure/machine-learning/service/quickstart-get-started#create-a-workspace) があります。コマンドラインタイプに慣れている場合は、Azure CLI を使用してセットアップする方法の [例](https://github.com/sethjuarez/workspacestarter) があります。プロジェクトを設定したら、以下のコードのコメントを外して設定ファイルを書き出し、ワークスペースに適した設定を入力します。設定ファイルが書き出されたら、下記のようにプログラムでワークスペースをロードすることができます。",
      "metadata": {}
    },
    {
      "cell_type": "code",
      "source": "##use this code to set up config file\n#subscription_id ='<SUB_ID>'\n#resource_group ='<RESOURCE_GROUP>'\n#workspace_name = '<WORKSPACE>'\n\n#try:\n#    ws = Workspace(subscription_id = subscription_id, resource_group = resource_group, workspace_name = workspace_name)\n#    ws.write_config()\n#    print('Workspace configuration succeeded. You are all set!')\n#except:\n#    print('Workspace not found. TOO MANY ISSUES!!!')\n\n##once you run the above code once, you can use the written config\nws = Workspace.from_config()",
      "metadata": {},
      "execution_count": 2,
      "outputs": [
        {
          "name": "stdout",
          "output_type": "stream",
          "text": "Found the config file in: C:\\projects\\pytorchintro\\aml_config\\config.json\n"
        }
      ]
    },
    {
      "cell_type": "markdown",
      "source": "# クラウドコンピュート\n次に、実験用のコンピュートターゲットを定義する必要があります。これはまったく新しいワークスペースなので、クラスタの名前を変更してください（私は 'racer' と呼んでいます）。以下のコードは自分のクラスタへの参照を取得しようとしますが、存在しない場合は作成します。クラスタを作成する場合、少し時間がかかります。また、予想外の課金をされないように、実験が完了したらクラスターをオフにしてください（実際には、min_node を 0 に設定して、長時間アイドル状態になるとクラスタが自動的にオフになることを検討してください）。 ",
      "metadata": {}
    },
    {
      "cell_type": "code",
      "source": "cluster = 'racer'\ntry:\n    compute = ComputeTarget(workspace=ws, name=cluster)\n    print('Found existing compute target \"{}\"'.format(cluster))\nexcept ComputeTargetException:\n    print('Creating new compute target \"{}\"...'.format(cluster))\n    compute_config = AmlCompute.provisioning_configuration(vm_size='STANDARD_NC6', min_nodes=1, max_nodes=6)\n    compute = ComputeTarget.create(ws, cluster, compute_config)\n    compute.wait_for_completion(show_output=True)",
      "metadata": {},
      "execution_count": 4,
      "outputs": [
        {
          "name": "stdout",
          "output_type": "stream",
          "text": "Found existing compute target \"racer\"\n"
        }
      ]
    },
    {
      "cell_type": "markdown",
      "source": "# 実験の時間\nコンピューティングターゲットが設定されたら、前回の小さなノートブックをリモートコンピューティング環境で実行できる単一のスクリプトにパッケージ化します。[あなたのために](train.py) 作っておきました。実際、ファイルを見ると、前のノートブックから学んだものとまったく同じ概念がすべて表示されます（これはほとんどまったく同じですが、スクリプトへの受け渡しを容易にするために追加の事項を入れています）。\n\nAzure ML サービスには実験という概念があります。実験ごとに複数回実行することができます。ここでは、実験の実行方法を定義する Estimator オブジェクトを使用しています。\n\n### バックグラウンドで何をしてるか気にしないのであれば、ここを読んではいけません\nバックグラウンドでは、Estimator は基本的に実験を格納する docker イメージの定義です。このすべてについての最もよい部分は、あなたがあなたの実験に使うもの（TensorFlowの狂ったカスタムバージョンであっても他の何かであっても）に関係なく、それが必ず実行可能であるということです - 結局それはコンテナです。とても使いやすいです。\n\n### 通常の手順に戻る\nEstimator を Azure ML サービスで実行することを送信すると、現在のディレクトリの内容がコピーされ、新しいコンテナにまとめられます（それらは [.amlignore] ファイルに記述されたもの以外、全部アップロードされます）\n\nまた、'argparse' を使用しているので、推論器定義の一部としてトレーニングスクリプトに外部パラメータを指定できます。\n\n次の3行を実行して、何が起こるのか見てみましょう。",
      "metadata": {}
    },
    {
      "cell_type": "code",
      "source": "# Create and run experiment\nmnist = Experiment(ws, 'pytorchmnist')\n\n# script parameters\nscript_params={\n    '--epochs': 5,\n    '--batch': 100,\n    '--lr': .001,\n    '--model': 'cnn'\n}\n\n# Create Estimator\nestimator = PyTorch(source_directory='.',\n                       compute_target=compute, \n                       entry_script='train.py',\n                       script_params=script_params,\n                       use_gpu=True)\n\nrun = mnist.submit(estimator)",
      "metadata": {},
      "execution_count": 5,
      "outputs": []
    },
    {
      "cell_type": "code",
      "source": "run",
      "metadata": {},
      "execution_count": 6,
      "outputs": [
        {
          "execution_count": 6,
          "output_type": "execute_result",
          "data": {
            "text/html": "<table style=\"width:100%\"><tr><th>Experiment</th><th>Id</th><th>Type</th><th>Status</th><th>Details Page</th><th>Docs Page</th></tr><tr><td>pytorchmnist</td><td>pytorchmnist_1545340099288</td><td>azureml.scriptrun</td><td>Queued</td><td><a href=\"https://mlworkspace.azure.ai/portal/subscriptions/3a06a10f-ae29-4924-b6a7-dda0ea91d347/resourceGroups/Ralph/providers/Microsoft.MachineLearningServices/workspaces/wrecker/experiments/pytorchmnist/runs/pytorchmnist_1545340099288\" target=\"_blank\" rel=\"noopener\">Link to Azure Portal</a></td><td><a href=\"https://docs.microsoft.com/en-us/python/api/azureml-core/azureml.core.script_run.ScriptRun?view=azure-ml-py\" target=\"_blank\" rel=\"noopener\">Link to Documentation</a></td></tr></table>",
            "text/plain": "Run(Experiment: pytorchmnist,\nId: pytorchmnist_1545340099288,\nType: azureml.scriptrun,\nStatus: Queued)"
          },
          "metadata": {}
        }
      ]
    },
    {
      "cell_type": "code",
      "source": "RunDetails(run).show()",
      "metadata": {},
      "execution_count": 7,
      "outputs": [
        {
          "output_type": "display_data",
          "data": {
            "application/vnd.jupyter.widget-view+json": {
              "model_id": "1d07efce30ae465bbbd6a707be510f41",
              "version_major": 2,
              "version_minor": 0
            },
            "text/plain": "_UserRunWidget(widget_settings={'childWidgetDisplay': 'popup', 'send_telemetry': False, 'log_level': 'NOTSET',…"
          },
          "metadata": {}
        }
      ]
    },
    {
      "cell_type": "markdown",
      "source": "すべて完了すると、次のようになります:\n\n![AzureML Run](https://raw.githubusercontent.com/sethjuarez/pytorchintro/master/images/run_widget.png)\n\n実際に、損失関数は時間の経過とともに（平均して）減少し、モデルの精度が上がったことに注意してください。learning_rate パラメータを変更して試してみてください。詳しくは、[Azure Machine Learning service でモデルのハイパーパラメーターを調整する](https://docs.microsoft.com/en-us/azure/machine-learning/service/how-to-tune-hyperparameters) を参照してください。\n\nさて、どのようにしてこれらの素晴らしいチャートを表示させられたのか疑問に思うかもしれません。これは Azure ML サービスが、あなたがすでにやっていたことに対して実用的な価値を付加してくれるところです。[いくつか](https://github.com/sethjuarez/pytorchintro/blob/master/train.py#L156-L166) の [戦略的](https://github.com/sethjuarez/pytorchintro/blob/master/train.py#L121-L122) に [配置](https://github.com/sethjuarez/pytorchintro/blob/master/train.py#L142-L143) されたログステートメントを使用して、Azure ML サービスはこの出力を作成しました。実際、値が複数回ログに記録されると、テーブル内の項目ではなくチャートが自動的に作成されます。",
      "metadata": {}
    },
    {
      "cell_type": "markdown",
      "source": "# モデル\nトレーニングがすべて完了して出力が完了したら、実際に特定の実験のすべての実行の出力を確認し、それを「公式な」ワークスペースモデルに昇格させることができます。重要なファイル（つまり私たちをお金持ちにしてくれるかもしれないモデル）が通常 Jeff という名前のコンピュータ上に置かれるのは素晴らしい機能です。また現在は、多くの人がモデルのバージョン管理さえしていません。以下のコードを実行してください。",
      "metadata": {}
    },
    {
      "cell_type": "code",
      "source": "run.get_file_names()",
      "metadata": {},
      "execution_count": 8,
      "outputs": [
        {
          "execution_count": 8,
          "output_type": "execute_result",
          "data": {
            "text/plain": "['azureml-logs/60_control_log.txt',\n 'azureml-logs/80_driver_log.txt',\n 'outputs/model.pth',\n 'outputs/model.onnx',\n 'driver_log',\n 'azureml-logs/azureml.log',\n 'azureml-logs/55_batchai_execution.txt']"
          },
          "metadata": {}
        }
      ]
    },
    {
      "cell_type": "code",
      "source": "model_file = 'outputs/model.pth'\nrun.download_file(name=model_file, output_file_path='model.pth')\nmodel = Model.register(ws, model_name='PyTorchMNIST', model_path='model.pth', \n                       description='CNN PyTorch Model')",
      "metadata": {},
      "execution_count": 9,
      "outputs": [
        {
          "name": "stdout",
          "output_type": "stream",
          "text": "Registering model PyTorchMNIST\n"
        }
      ]
    },
    {
      "cell_type": "markdown",
      "source": "# イメージ\nモデルが完成したので、それをプロダクションで使用する場合は、モデルの使用方法を定義する必要があります。これはスコアリングまたは推論とも呼ばれます。Azure ML サービスでは、基本的に2つのメソッドが必要です:\n1. `init()`\n2. `run(raw)` JSON 文字列を取り込んで予測を返す\n\n最初にスコアスクリプトが実行される環境を記述し、それを環境ファイルにまとめる必要があります。",
      "metadata": {}
    },
    {
      "cell_type": "code",
      "source": "myenv = CondaDependencies()\nmyenv.add_pip_package('numpy')\nmyenv.add_pip_package('torch')\nwith open('pytorchmnist.yml','w') as f:\n    print('Writing out {}'.format('pytorchmnist.yml'))\n    f.write(myenv.serialize_to_string())\n    print('Done!')",
      "metadata": {},
      "execution_count": 10,
      "outputs": [
        {
          "name": "stdout",
          "output_type": "stream",
          "text": "Writing out pytorchmnist.yml\nDone!\n"
        }
      ]
    },
    {
      "cell_type": "markdown",
      "source": "次に、Azure ML サービスにスコアリングスクリプトの場所を通知する必要があります。[あらかじめ作っておきました](score.py)。ファイルを見ると、init() メソッドと run(raw) メソッドの両方が簡単に見つかるはずです。ファイルをローカルで実行して、正しい動作をしていることを確認することもできます。\n\nこれですべてが完成したので、イメージを作成しましょう。\n\n### バックグラウンドで何をしてるか気にしないのであれば、ここを読んではいけません\n基本的には、定義からdockerイメージを作成して、Workspace に表示される Azure Container Registry にプッシュします。\n\n**注** しばらく時間がかかります",
      "metadata": {}
    },
    {
      "cell_type": "code",
      "source": "from azureml.core.image import ContainerImage, Image\n\n# create image\nimage_config = ContainerImage.image_configuration(execution_script=\"score.py\", \n                                runtime=\"python\", \n                                conda_file=\"pytorchmnist.yml\")\n\nimage = Image.create(ws, 'pytorchmnist', [model], image_config)\nimage.wait_for_creation(show_output=True)",
      "metadata": {},
      "execution_count": 11,
      "outputs": [
        {
          "name": "stdout",
          "output_type": "stream",
          "text": "Creating image\nRunning.............................................\nSucceededImage creation operation finished for image pytorchmnist:5, operation \"Succeeded\"\n"
        }
      ]
    },
    {
      "cell_type": "markdown",
      "source": "# デプロイ\nイメージ作成をやめて、残りの展開プロセスを Azure Pipelines のようなものに移動したいかもしれません。このサービスを引き続きワークスペースにデプロイしたい場合は、以下を使用してください。",
      "metadata": {}
    },
    {
      "cell_type": "code",
      "source": "from azureml.core.webservice import Webservice, AciWebservice\n\nservice_name = 'pytorchmnist-svc'\n\n# check for existing service\nsvcs = [svc for svc in Webservice.list(ws) if svc.name==service_name]\nif len(svcs) == 1:\n    print('Deleting prior {} deployment'.format(service_name))\n    svcs[0].delete()\n\n# create service\naciconfig = AciWebservice.deploy_configuration(cpu_cores=1, \n                                            memory_gb=1, \n                                            description='simple MNIST digit detection')\nservice = Webservice.deploy_from_image(workspace=ws, \n                                    image=image, \n                                    name=service_name, \n                                    deployment_config=aciconfig)\nservice.wait_for_deployment(show_output=True)\nprint(service.scoring_uri)",
      "metadata": {},
      "execution_count": 12,
      "outputs": [
        {
          "name": "stdout",
          "output_type": "stream",
          "text": "Deleting prior pytorchmnist-svc deployment\nCreating service\nRunning.........................\nSucceededACI service creation operation finished, operation \"Succeeded\"\n"
        }
      ]
    },
    {
      "cell_type": "markdown",
      "source": "イメージを ACI またはワークスペース Kubernetes クラスターにプッシュすることもできます。\n\n時々うまくいかないことがあります・・・もし実行時にそうなったら、実際の [logs](deploy.log) を見てください。!",
      "metadata": {}
    },
    {
      "cell_type": "code",
      "source": "with open('deploy.log','w') as f:\n    f.write(service.get_logs())",
      "metadata": {},
      "execution_count": 106,
      "outputs": []
    },
    {
      "cell_type": "markdown",
      "source": "# サービスの実行\nこれで動作しています。適切に動作しているか見てみましょう。テストデータをロードして乱数を試すことができます。",
      "metadata": {}
    },
    {
      "cell_type": "code",
      "source": "digits = datasets.MNIST('data', train=True, download=True,\n                        transform=transforms.Compose([\n                            transforms.ToTensor(),\n                            transforms.Lambda(lambda x: x.reshape(28*28))\n                        ]),\n                        target_transform=transforms.Compose([\n                            transforms.Lambda(lambda y: torch.zeros(10, dtype=torch.float).scatter_(0, y, 1))\n                        ])\n                     )\nprint(len(digits))",
      "metadata": {},
      "execution_count": 14,
      "outputs": [
        {
          "name": "stdout",
          "output_type": "stream",
          "text": "60000\n"
        }
      ]
    },
    {
      "cell_type": "markdown",
      "source": "インデックスとして基本的に最大60,000まで任意の数を選ぶことができます。サービスがどのように動作しているかを見るために何回か試してみてください。",
      "metadata": {}
    },
    {
      "cell_type": "code",
      "source": "import torch\nfrom PIL import Image\nimport matplotlib.pyplot as plt\n\nX, Y = digits[57435]\nX = X * 255\nplt.imshow(255 - X.reshape(28,28), cmap='gray')\nprint(Y)",
      "metadata": {},
      "execution_count": 18,
      "outputs": [
        {
          "name": "stdout",
          "output_type": "stream",
          "text": "tensor([1., 0., 0., 0., 0., 0., 0., 0., 0., 0.])\n"
        },
        {
          "output_type": "display_data",
          "data": {
            "image/png": "[encoded data removed]",
            "text/plain": "<Figure size 432x288 with 1 Axes>"
          },
          "metadata": {
            "needs_background": "light"
          }
        }
      ]
    },
    {
      "cell_type": "code",
      "source": "# This is a string representation of the image we will POST to the endpoint\nimage_str = ','.join(map(str, X.int().tolist()))\nprint(image_str)",
      "metadata": {
        "scrolled": true
      },
      "execution_count": 16,
      "outputs": [
        {
          "name": "stdout",
          "output_type": "stream",
          "text": "0,0,0,0,0,0,0,0,0,0,0,0,0,0,0,0,0,0,0,0,0,0,0,0,0,0,0,0,0,0,0,0,0,0,0,0,0,0,0,0,0,0,0,0,0,0,0,0,0,0,0,0,0,0,0,0,0,0,0,0,0,0,0,0,0,0,0,0,0,0,0,0,0,0,0,0,0,0,0,0,0,0,0,0,0,0,0,0,0,0,0,0,0,0,0,0,0,0,0,0,0,0,0,0,0,0,0,0,0,0,0,0,0,0,0,0,0,0,0,0,0,0,0,0,0,0,0,0,0,0,63,255,253,119,0,0,0,0,0,0,0,0,0,0,0,0,0,0,0,0,0,0,0,0,0,0,19,178,240,253,252,246,75,0,0,0,0,0,0,0,0,0,0,0,0,0,0,0,0,0,0,0,0,19,178,252,252,253,252,252,193,0,0,0,0,0,0,0,0,0,0,0,0,0,0,0,0,0,0,0,0,101,252,252,252,253,252,252,223,0,0,0,0,0,0,0,0,0,0,0,0,0,0,0,0,0,0,0,63,240,252,252,252,253,252,252,223,0,0,0,0,0,0,0,0,0,0,0,0,0,0,0,0,0,0,63,255,253,253,240,140,114,253,253,84,0,0,0,0,0,0,0,0,0,0,0,0,0,0,0,0,19,178,240,253,252,233,71,0,159,252,252,84,0,0,0,0,0,0,0,0,0,0,0,0,0,0,0,19,178,252,252,253,233,74,0,0,253,252,239,65,0,0,0,0,0,0,0,0,0,0,0,0,0,0,0,101,252,252,252,253,151,0,0,0,253,252,195,0,0,0,0,0,0,0,0,0,0,0,0,0,0,0,141,240,252,252,252,253,27,0,0,0,253,252,118,0,0,0,0,0,0,0,0,0,0,0,0,0,0,63,255,253,253,178,140,0,0,0,0,141,255,253,56,0,0,0,0,0,0,0,0,0,0,0,0,0,73,240,253,252,233,56,0,0,0,0,73,240,253,176,6,0,0,0,0,0,0,0,0,0,0,0,0,76,234,252,253,233,74,0,0,0,0,13,187,252,253,136,0,0,0,0,0,0,0,0,0,0,0,0,57,234,252,252,240,71,0,0,0,0,10,156,252,252,178,9,0,0,0,0,0,0,0,0,0,0,0,0,163,252,252,252,63,0,0,0,0,0,85,252,252,252,63,0,0,0,0,0,0,0,0,0,0,0,0,0,226,253,253,253,0,0,0,0,0,176,253,253,253,190,0,0,0,0,0,0,0,0,0,0,0,0,0,0,100,252,252,252,163,85,117,225,225,253,252,252,179,12,0,0,0,0,0,0,0,0,0,0,0,0,0,0,85,252,252,252,253,252,252,252,252,253,233,164,19,0,0,0,0,0,0,0,0,0,0,0,0,0,0,0,28,199,252,252,253,252,252,252,252,240,71,0,0,0,0,0,0,0,0,0,0,0,0,0,0,0,0,0,0,25,112,189,253,252,252,236,112,63,0,0,0,0,0,0,0,0,0,0,0,0,0,0,0,0,0,0,0,0,0,0,0,0,0,0,0,0,0,0,0,0,0,0,0,0,0,0,0,0,0,0,0,0,0,0,0,0,0,0,0,0,0,0,0,0,0,0,0,0,0,0,0,0,0,0,0,0,0,0,0,0,0,0,0,0,0,0,0,0,0,0,0,0,0,0,0,0,0,0,0,0,0,0,0,0,0,0,0,0,0,0,0,0,0,0,0,0,0,0,0,0,0,0,0,0,0,0,0,0,0,0,0,0,0\n"
        }
      ]
    },
    {
      "cell_type": "code",
      "source": "import json\nimport requests\nservice_url = service.scoring_uri\nprint(service_url)\nr = requests.post(service_url, json={'image': image_str })\nr.json()",
      "metadata": {},
      "execution_count": 17,
      "outputs": [
        {
          "name": "stdout",
          "output_type": "stream",
          "text": "http://13.83.149.109:80/score\n"
        },
        {
          "execution_count": 17,
          "output_type": "execute_result",
          "data": {
            "text/plain": "{'time': 0.104436,\n 'prediction': 0,\n 'scores': [0.995736837387085,\n  2.3327098475078856e-08,\n  0.003980344161391258,\n  0.00016383796173613518,\n  4.010713894331275e-08,\n  5.167449853615835e-05,\n  1.7358546756440774e-05,\n  4.9987315833277535e-06,\n  4.1949653677875176e-05,\n  3.171517391820089e-06]}"
          },
          "metadata": {}
        }
      ]
    },
    {
      "cell_type": "markdown",
      "source": "## 最後に\nこの小さな旅が参考になっていればうれしい！ 私の目標は、機械学習の基本がそれほど悪いものではないことを示すことです。コメント、提案、または分からないところは一言教えてください。",
      "metadata": {}
    },
    {
      "cell_type": "code",
      "source": "",
      "metadata": {},
      "execution_count": null,
      "outputs": []
    }
  ]
}